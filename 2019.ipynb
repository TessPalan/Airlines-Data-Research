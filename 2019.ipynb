version https://git-lfs.github.com/spec/v1
oid sha256:0de064c3322d4262c259fde2d3933fa279ccc48d7ec95119ea44568f935464cd
size 46099
